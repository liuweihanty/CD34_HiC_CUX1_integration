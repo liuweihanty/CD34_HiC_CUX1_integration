{
 "cells": [
  {
   "cell_type": "markdown",
   "id": "aca0ea48",
   "metadata": {},
   "source": [
    "This script plot the difference between CTRL and CUX1 KD ATAC seq signal in human CD34+ HSPC for the CUX1-promotor bound loops and non-interacting loops. The loops are identified from CD34 HiC in Zhang 2020"
   ]
  },
  {
   "cell_type": "code",
   "execution_count": 1,
   "id": "b2feff0c",
   "metadata": {},
   "outputs": [],
   "source": [
    "import numpy as np\n",
    "import pandas as pd\n",
    "import matplotlib.pyplot as plt\n",
    "import seaborn as sns\n",
    "import os\n",
    "import scipy"
   ]
  },
  {
   "cell_type": "markdown",
   "id": "8347e375",
   "metadata": {},
   "source": [
    "Import the count matrix from `computeMatrix`."
   ]
  },
  {
   "cell_type": "code",
   "execution_count": 2,
   "id": "80dbed21",
   "metadata": {},
   "outputs": [],
   "source": [
    "# First two: CREs (loop region, not precise enhancer)\n",
    "CREs = pd.read_csv('matrix_CREs.tab', header=0, sep='\\t')\n",
    "loops_without_CREs = pd.read_csv('matrix_loops_without_CREs.tab', header=0, sep='\\t')\n",
    "enhancers = pd.read_csv('matrix_enhancers.tab', header=0, sep='\\t')\n",
    "loops_without_enhancers = pd.read_csv('matrix_loops_without_enhancers.tab', header=0, sep='\\t')"
   ]
  },
  {
   "cell_type": "markdown",
   "id": "c125dcaf",
   "metadata": {},
   "source": [
    "Aggregate the RPKM values for all the bins (columns) for each region."
   ]
  },
  {
   "cell_type": "code",
   "execution_count": 3,
   "id": "42978863",
   "metadata": {},
   "outputs": [],
   "source": [
    "CREs_CTRL = CREs.filter(regex = 'CTRL').sum(axis=1)\n",
    "CREs_KD = CREs.filter(regex = 'KD').sum(axis=1)\n",
    "CREs_plot = pd.DataFrame({'CTRL': CREs_CTRL,'KD': CREs_KD})"
   ]
  },
  {
   "cell_type": "code",
   "execution_count": 4,
   "id": "42978863",
   "metadata": {},
   "outputs": [],
   "source": [
    "loops_without_CREs_CTRL = loops_without_CREs.filter(regex = 'CTRL').sum(axis=1)\n",
    "loops_without_CREs_KD = loops_without_CREs.filter(regex = 'KD').sum(axis=1)\n",
    "loops_without_CREs_plot_no_size_match = pd.DataFrame({'CTRL': loops_without_CREs_CTRL,'KD': loops_without_CREs_KD})\n",
    "\n",
    "# Size matching\n",
    "loops_without_CREs_plot = loops_without_CREs_plot_no_size_match.sample(n = CREs_plot.shape[0])"
   ]
  },
  {
   "cell_type": "code",
   "execution_count": 5,
   "id": "42978863",
   "metadata": {},
   "outputs": [],
   "source": [
    "enhancers_CTRL = enhancers.filter(regex = 'CTRL').sum(axis=1)\n",
    "enhancers_KD = enhancers.filter(regex = 'KD').sum(axis=1)\n",
    "enhancers_plot = pd.DataFrame({'CTRL': enhancers_CTRL,'KD': enhancers_KD})"
   ]
  },
  {
   "cell_type": "code",
   "execution_count": 6,
   "id": "51629433",
   "metadata": {},
   "outputs": [],
   "source": [
    "loops_without_enhancers_CTRL = loops_without_enhancers.filter(regex = 'CTRL').sum(axis=1)\n",
    "loops_without_enhancers_KD = loops_without_enhancers.filter(regex = 'KD').sum(axis=1)\n",
    "loops_without_enhancers_plot_no_size_match = pd.DataFrame({'CTRL': loops_without_enhancers_CTRL,'KD': loops_without_enhancers_KD})\n",
    "\n",
    "# Size matching\n",
    "loops_without_enhancers_plot = loops_without_enhancers_plot_no_size_match.sample(n = enhancers_plot.shape[0])\n",
    "# Randomly sample 272 rows to size match with the interacting loops. This is because the variance of the interact loops are drastically higher than the non-interaction loops. t test has to assume equal variance\n",
    "# non_interact_plot_sample_1 = non_interact_plot_1.sample(n = 272)"
   ]
  },
  {
   "cell_type": "markdown",
   "id": "383dbb8e",
   "metadata": {},
   "source": [
    "Perform statistical test"
   ]
  },
  {
   "cell_type": "code",
   "execution_count": 7,
   "id": "8066882c",
   "metadata": {},
   "outputs": [
    {
     "data": {
      "text/plain": [
       "Ttest_indResult(statistic=0.9610291865000232, pvalue=0.3374735363100396)"
      ]
     },
     "execution_count": 7,
     "metadata": {},
     "output_type": "execute_result"
    }
   ],
   "source": [
    "scipy.stats.ttest_ind(CREs_plot['CTRL'], CREs_plot['KD'])"
   ]
  },
  {
   "cell_type": "code",
   "execution_count": 8,
   "id": "8066882c",
   "metadata": {},
   "outputs": [
    {
     "data": {
      "text/plain": [
       "Ttest_indResult(statistic=2.1633006138267947, pvalue=0.030560190345020173)"
      ]
     },
     "execution_count": 8,
     "metadata": {},
     "output_type": "execute_result"
    }
   ],
   "source": [
    "scipy.stats.ttest_ind(loops_without_CREs_plot['CTRL'], loops_without_CREs_plot['KD'])"
   ]
  },
  {
   "cell_type": "code",
   "execution_count": 9,
   "id": "8066882c",
   "metadata": {},
   "outputs": [
    {
     "data": {
      "text/plain": [
       "Ttest_indResult(statistic=3.090238902106955, pvalue=0.0020460588465346483)"
      ]
     },
     "execution_count": 9,
     "metadata": {},
     "output_type": "execute_result"
    }
   ],
   "source": [
    "scipy.stats.ttest_ind(enhancers_plot['CTRL'], enhancers_plot['KD'])"
   ]
  },
  {
   "cell_type": "code",
   "execution_count": 10,
   "id": "3ab79677",
   "metadata": {},
   "outputs": [
    {
     "data": {
      "text/plain": [
       "Ttest_indResult(statistic=43.58482055052735, pvalue=0.0)"
      ]
     },
     "execution_count": 10,
     "metadata": {},
     "output_type": "execute_result"
    }
   ],
   "source": [
    "scipy.stats.ttest_ind(loops_without_enhancers_plot['CTRL'], loops_without_enhancers_plot['KD'])"
   ]
  },
  {
   "cell_type": "markdown",
   "id": "a399c961",
   "metadata": {},
   "source": [
    "Plot"
   ]
  },
  {
   "cell_type": "code",
   "execution_count": 11,
   "id": "4f85fdbf",
   "metadata": {},
   "outputs": [],
   "source": [
    "CREs_plot['sample']='CREs'\n",
    "loops_without_CREs_plot['sample']='loops_without_CREs'\n",
    "enhancers_plot['sample']='enhancers'\n",
    "loops_without_enhancers_plot['sample']='loops_without_enhancers'"
   ]
  },
  {
   "cell_type": "code",
   "execution_count": 12,
   "id": "66fdc057",
   "metadata": {
    "scrolled": true
   },
   "outputs": [],
   "source": [
    "CREs_plot = pd.melt(CREs_plot,id_vars='sample',var_name=\"condition\",value_name=\"RPKM\")\n",
    "loops_without_CREs_plot = pd.melt(loops_without_CREs_plot,id_vars='sample',var_name=\"condition\",value_name=\"RPKM\")\n",
    "enhancers_plot = pd.melt(enhancers_plot,id_vars='sample',var_name=\"condition\",value_name=\"RPKM\")\n",
    "loops_without_enhancers_plot = pd.melt(loops_without_enhancers_plot,id_vars='sample',var_name=\"condition\",value_name=\"RPKM\")"
   ]
  },
  {
   "cell_type": "code",
   "execution_count": 13,
   "id": "fecec3ac",
   "metadata": {},
   "outputs": [
    {
     "name": "stderr",
     "output_type": "stream",
     "text": [
      "/Users/alexandregaubil/opt/anaconda3/envs/bioinformatics/lib/python3.7/site-packages/pandas/core/arraylike.py:364: RuntimeWarning: divide by zero encountered in log2\n",
      "  result = getattr(ufunc, method)(*inputs, **kwargs)\n"
     ]
    }
   ],
   "source": [
    "final_plot=CREs_plot.append(loops_without_CREs_plot)\n",
    "final_plot=final_plot.append(enhancers_plot)\n",
    "final_plot=final_plot.append(loops_without_enhancers_plot)\n",
    "final_plot['log2_RPKM'] = np.log2(final_plot['RPKM'])"
   ]
  },
  {
   "cell_type": "code",
   "execution_count": 15,
   "id": "6fa9b8c3",
   "metadata": {},
   "outputs": [
    {
     "data": {
      "image/png": "[encoded data removed]",
      "text/plain": [
       "<Figure size 640x480 with 1 Axes>"
      ]
     },
     "metadata": {},
     "output_type": "display_data"
    }
   ],
   "source": [
    "sns.set_theme(style=\"ticks\")\n",
    "my_pal = {\"CTRL\":\"#448ee4\",\"KD\": \"orange\"}\n",
    "sns.boxplot(\n",
    "\tx=\"sample\", \n",
    "\ty=\"log2_RPKM\",\n",
    "\thue=\"condition\",\n",
    "\tpalette=my_pal,\n",
    "\tdata=final_plot\n",
    ").set_title(\"Cux1 HiC & long loops\")\n",
    "sns.despine(offset=10, trim=True)"
   ]
  }
 ],
 "metadata": {
  "kernelspec": {
   "display_name": "Python 3.7.7 ('bioinformatics')",
   "language": "python",
   "name": "python3"
  },
  "language_info": {
   "codemirror_mode": {
    "name": "ipython",
    "version": 3
   },
   "file_extension": ".py",
   "mimetype": "text/x-python",
   "name": "python",
   "nbconvert_exporter": "python",
   "pygments_lexer": "ipython3",
   "version": "3.7.13"
  },
  "vscode": {
   "interpreter": {
    "hash": "019bc68f04bd70b649333d174941c10205ca400ffb3f49d6a1d83ffff09e93a1"
   }
  }
 },
 "nbformat": 4,
 "nbformat_minor": 5
}
