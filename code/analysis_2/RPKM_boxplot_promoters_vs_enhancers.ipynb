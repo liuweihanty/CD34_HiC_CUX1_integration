{
 "cells": [
  {
   "cell_type": "markdown",
   "id": "aca0ea48",
   "metadata": {},
   "source": [
    "This script plot the difference between CTRL and CUX1 KD ATAC seq signal in human CD34+ HSPC for the CUX1-promotor bound loops and non-interacting loops. The loops are identified from CD34 HiC in Zhang 2020"
   ]
  },
  {
   "cell_type": "code",
   "execution_count": 29,
   "id": "b2feff0c",
   "metadata": {},
   "outputs": [],
   "source": [
    "import numpy as np\n",
    "import pandas as pd\n",
    "import matplotlib.pyplot as plt\n",
    "import seaborn as sns\n",
    "import os\n",
    "import scipy"
   ]
  },
  {
   "cell_type": "code",
   "execution_count": 30,
   "id": "719b0d79",
   "metadata": {},
   "outputs": [],
   "source": [
    "os.chdir(\"../../data/analysis_2_results\")"
   ]
  },
  {
   "cell_type": "markdown",
   "id": "8347e375",
   "metadata": {},
   "source": [
    "import the count matrix from computeMatrix"
   ]
  },
  {
   "cell_type": "code",
   "execution_count": 31,
   "id": "86d9ab02",
   "metadata": {},
   "outputs": [],
   "source": [
    "enhancers = pd.read_csv(\"ChromHMM_enhancers_reads.tab\",header = 0,sep = \"\\t\")\n",
    "promoters = pd.read_csv(\"ChromHMM_promoters_reads.tab\",header = 0,sep = \"\\t\")"
   ]
  },
  {
   "cell_type": "markdown",
   "id": "c125dcaf",
   "metadata": {},
   "source": [
    "aggregate the RPKM values for all the bins(columns) for each region"
   ]
  },
  {
   "cell_type": "code",
   "execution_count": 34,
   "id": "42978863",
   "metadata": {},
   "outputs": [],
   "source": [
    "reads_enhancers = enhancers.filter(regex = \"CTRL\").sum(axis = 1)\n",
    "reads_promoters = promoters.filter(regex = \"CTRL\").sum(axis = 1)\n",
    "reads_enhancers\n",
    "reads_plot = pd.DataFrame({'enhancers':reads_enhancers,'promoters':reads_promoters})"
   ]
  },
  {
   "cell_type": "markdown",
   "id": "383dbb8e",
   "metadata": {},
   "source": [
    "Perform statistical test"
   ]
  },
  {
   "cell_type": "code",
   "execution_count": 35,
   "id": "8066882c",
   "metadata": {},
   "outputs": [],
   "source": [
    "#scipy.stats.ttest_ind(reads_plot['enhancers'], reads_plot['promoters'])"
   ]
  },
  {
   "cell_type": "markdown",
   "id": "a399c961",
   "metadata": {},
   "source": [
    "Plot"
   ]
  },
  {
   "cell_type": "code",
   "execution_count": 36,
   "id": "4f85fdbf",
   "metadata": {},
   "outputs": [],
   "source": [
    "# Join the two data frame together for plotting\n",
    "reads_plot['sample']='all'"
   ]
  },
  {
   "cell_type": "code",
   "execution_count": 37,
   "id": "66fdc057",
   "metadata": {
    "scrolled": true
   },
   "outputs": [],
   "source": [
    "reads_plot = pd.melt(reads_plot, id_vars='sample', var_name=\"condition\", value_name=\"RPKM\")"
   ]
  },
  {
   "cell_type": "code",
   "execution_count": 41,
   "id": "fecec3ac",
   "metadata": {},
   "outputs": [
    {
     "name": "stderr",
     "output_type": "stream",
     "text": [
      "/Users/alexandregaubil/opt/anaconda3/envs/bioinformatics/lib/python3.7/site-packages/pandas/core/arraylike.py:364: RuntimeWarning: divide by zero encountered in log2\n",
      "  result = getattr(ufunc, method)(*inputs, **kwargs)\n"
     ]
    },
    {
     "data": {
      "text/html": [
       "<div>\n",
       "<style scoped>\n",
       "    .dataframe tbody tr th:only-of-type {\n",
       "        vertical-align: middle;\n",
       "    }\n",
       "\n",
       "    .dataframe tbody tr th {\n",
       "        vertical-align: top;\n",
       "    }\n",
       "\n",
       "    .dataframe thead th {\n",
       "        text-align: right;\n",
       "    }\n",
       "</style>\n",
       "<table border=\"1\" class=\"dataframe\">\n",
       "  <thead>\n",
       "    <tr style=\"text-align: right;\">\n",
       "      <th></th>\n",
       "      <th>sample</th>\n",
       "      <th>condition</th>\n",
       "      <th>RPKM</th>\n",
       "      <th>log2_RPKM</th>\n",
       "    </tr>\n",
       "  </thead>\n",
       "  <tbody>\n",
       "    <tr>\n",
       "      <th>0</th>\n",
       "      <td>all</td>\n",
       "      <td>enhancers</td>\n",
       "      <td>0.0</td>\n",
       "      <td>-inf</td>\n",
       "    </tr>\n",
       "    <tr>\n",
       "      <th>1</th>\n",
       "      <td>all</td>\n",
       "      <td>enhancers</td>\n",
       "      <td>0.0</td>\n",
       "      <td>-inf</td>\n",
       "    </tr>\n",
       "    <tr>\n",
       "      <th>2</th>\n",
       "      <td>all</td>\n",
       "      <td>enhancers</td>\n",
       "      <td>0.0</td>\n",
       "      <td>-inf</td>\n",
       "    </tr>\n",
       "    <tr>\n",
       "      <th>3</th>\n",
       "      <td>all</td>\n",
       "      <td>enhancers</td>\n",
       "      <td>0.0</td>\n",
       "      <td>-inf</td>\n",
       "    </tr>\n",
       "    <tr>\n",
       "      <th>4</th>\n",
       "      <td>all</td>\n",
       "      <td>enhancers</td>\n",
       "      <td>0.0</td>\n",
       "      <td>-inf</td>\n",
       "    </tr>\n",
       "    <tr>\n",
       "      <th>...</th>\n",
       "      <td>...</td>\n",
       "      <td>...</td>\n",
       "      <td>...</td>\n",
       "      <td>...</td>\n",
       "    </tr>\n",
       "    <tr>\n",
       "      <th>333649</th>\n",
       "      <td>all</td>\n",
       "      <td>promoters</td>\n",
       "      <td>NaN</td>\n",
       "      <td>NaN</td>\n",
       "    </tr>\n",
       "    <tr>\n",
       "      <th>333650</th>\n",
       "      <td>all</td>\n",
       "      <td>promoters</td>\n",
       "      <td>NaN</td>\n",
       "      <td>NaN</td>\n",
       "    </tr>\n",
       "    <tr>\n",
       "      <th>333651</th>\n",
       "      <td>all</td>\n",
       "      <td>promoters</td>\n",
       "      <td>NaN</td>\n",
       "      <td>NaN</td>\n",
       "    </tr>\n",
       "    <tr>\n",
       "      <th>333652</th>\n",
       "      <td>all</td>\n",
       "      <td>promoters</td>\n",
       "      <td>NaN</td>\n",
       "      <td>NaN</td>\n",
       "    </tr>\n",
       "    <tr>\n",
       "      <th>333653</th>\n",
       "      <td>all</td>\n",
       "      <td>promoters</td>\n",
       "      <td>NaN</td>\n",
       "      <td>NaN</td>\n",
       "    </tr>\n",
       "  </tbody>\n",
       "</table>\n",
       "<p>333654 rows × 4 columns</p>\n",
       "</div>"
      ],
      "text/plain": [
       "       sample  condition  RPKM  log2_RPKM\n",
       "0         all  enhancers   0.0       -inf\n",
       "1         all  enhancers   0.0       -inf\n",
       "2         all  enhancers   0.0       -inf\n",
       "3         all  enhancers   0.0       -inf\n",
       "4         all  enhancers   0.0       -inf\n",
       "...       ...        ...   ...        ...\n",
       "333649    all  promoters   NaN        NaN\n",
       "333650    all  promoters   NaN        NaN\n",
       "333651    all  promoters   NaN        NaN\n",
       "333652    all  promoters   NaN        NaN\n",
       "333653    all  promoters   NaN        NaN\n",
       "\n",
       "[333654 rows x 4 columns]"
      ]
     },
     "execution_count": 41,
     "metadata": {},
     "output_type": "execute_result"
    }
   ],
   "source": [
    "final_plot = reads_plot\n",
    "final_plot['log2_RPKM'] = np.log2(final_plot['RPKM'])\n",
    "final_plot"
   ]
  },
  {
   "cell_type": "code",
   "execution_count": 46,
   "id": "6fa9b8c3",
   "metadata": {},
   "outputs": [
    {
     "data": {
      "image/png": "[encoded data removed]",
      "text/plain": [
       "<Figure size 640x480 with 1 Axes>"
      ]
     },
     "metadata": {},
     "output_type": "display_data"
    }
   ],
   "source": [
    "sns.set_theme(style=\"ticks\")\n",
    "my_pal = {\"enhancers\":\"#448ee4\",\"promoters\": \"orange\"}\n",
    "sns.boxplot(x=\"condition\", y=\"log2_RPKM\",\n",
    "            palette=my_pal,\n",
    "            data=final_plot)\n",
    "sns.despine(offset=10, trim=True)"
   ]
  }
 ],
 "metadata": {
  "kernelspec": {
   "display_name": "Python 3.7.7 ('bioinformatics')",
   "language": "python",
   "name": "python3"
  },
  "language_info": {
   "codemirror_mode": {
    "name": "ipython",
    "version": 3
   },
   "file_extension": ".py",
   "mimetype": "text/x-python",
   "name": "python",
   "nbconvert_exporter": "python",
   "pygments_lexer": "ipython3",
   "version": "3.7.13"
  },
  "vscode": {
   "interpreter": {
    "hash": "019bc68f04bd70b649333d174941c10205ca400ffb3f49d6a1d83ffff09e93a1"
   }
  }
 },
 "nbformat": 4,
 "nbformat_minor": 5
}
