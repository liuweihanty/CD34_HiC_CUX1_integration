{
 "cells": [
  {
   "cell_type": "markdown",
   "metadata": {},
   "source": [
    "# Plots Generator\n",
    "\n",
    "Generates two plots, one for HiC loops only and one for HiC & long loops. Each has four subgroups, listed below, in which we compare control and KD cells:\n",
    "- Negative control, loops without CREs,\n",
    "- Negative control, loops without enhancers,\n",
    "- CUX1 bound enhancers,\n",
    "- CUX1 & SMARCA4 co-bound enhancers."
   ]
  },
  {
   "cell_type": "markdown",
   "metadata": {},
   "source": [
    "## Library imports"
   ]
  },
  {
   "cell_type": "code",
   "execution_count": 33,
   "metadata": {},
   "outputs": [],
   "source": [
    "import numpy as np\n",
    "import pandas as pd\n",
    "import matplotlib.pyplot as plt\n",
    "import seaborn as sns\n",
    "import os\n",
    "import scipy"
   ]
  },
  {
   "cell_type": "markdown",
   "metadata": {},
   "source": [
    "## HiC Loops\n",
    "\n",
    "Import the count matrices from `computeMatrix`."
   ]
  },
  {
   "cell_type": "code",
   "execution_count": 34,
   "metadata": {},
   "outputs": [],
   "source": [
    "hic_nc_CREs = pd.read_csv('cux1_short_loops/matrix_loops_without_CREs.tab', header=0, sep='\\t')\n",
    "hic_nc_enhancers = pd.read_csv('cux1_short_loops/matrix_loops_without_enhancers.tab', header=0, sep='\\t')\n",
    "hic_enhancers = pd.read_csv('cux1_short_loops/matrix_enhancers.tab', header=0, sep='\\t')\n",
    "hic_smaca4_enhancers = pd.read_csv('cux1_smaca4_short_loops/matrix_enhancers.tab', header=0, sep='\\t')"
   ]
  },
  {
   "cell_type": "markdown",
   "metadata": {},
   "source": [
    "Create a data frame from each matrix that distinguished CTRL and KD values. We size match the negative control."
   ]
  },
  {
   "cell_type": "code",
   "execution_count": 35,
   "metadata": {},
   "outputs": [],
   "source": [
    "# Filters only CTRL values from the matrix\n",
    "def filterCTRL(matrix):\n",
    "\treturn matrix.filter(regex='CTRL|WT').sum(axis=1)\n",
    "\n",
    "# Filters only KD values from the matrix\n",
    "def filterKD(matrix):\n",
    "\treturn matrix.filter(regex='KD').sum(axis=1)"
   ]
  },
  {
   "cell_type": "code",
   "execution_count": 36,
   "id": "42978863",
   "metadata": {},
   "outputs": [],
   "source": [
    "hic_enhancers_plot_pre = pd.DataFrame({'CTRL': filterCTRL(hic_enhancers),'KD': filterKD(hic_enhancers)})\n",
    "hic_smaca4_enhancers_plot_pre = pd.DataFrame({'CTRL': filterCTRL(hic_smaca4_enhancers),'KD': filterKD(hic_smaca4_enhancers)})\n",
    "hic_nc_CREs_plot_pre = pd.DataFrame({'CTRL': filterCTRL(hic_nc_CREs),'KD': filterKD(hic_nc_CREs)})\n",
    "hic_nc_enhancers_plot_pre = pd.DataFrame({'CTRL': filterCTRL(hic_nc_enhancers),'KD': filterKD(hic_nc_enhancers)})"
   ]
  },
  {
   "cell_type": "code",
   "execution_count": 37,
   "metadata": {},
   "outputs": [
    {
     "data": {
      "text/plain": [
       "(703, [1288, 703, 4736, 4745])"
      ]
     },
     "execution_count": 37,
     "metadata": {},
     "output_type": "execute_result"
    }
   ],
   "source": [
    "hic_shared_size = min([hic_enhancers_plot_pre.shape[0], hic_smaca4_enhancers_plot_pre.shape[0], hic_nc_CREs_plot_pre.shape[0], hic_nc_enhancers_plot_pre.shape[0]])\n",
    "hic_enhancers_plot = hic_enhancers_plot_pre.sample(n=hic_shared_size)\n",
    "hic_smaca4_enhancers_plot = hic_smaca4_enhancers_plot_pre.sample(n=hic_shared_size)\n",
    "hic_nc_CREs_plot = hic_nc_CREs_plot_pre.sample(n=hic_shared_size)\n",
    "hic_nc_enhancers_plot = hic_nc_enhancers_plot_pre.sample(n=hic_shared_size)\n",
    "\n",
    "(hic_shared_size, [hic_enhancers_plot_pre.shape[0], hic_smaca4_enhancers_plot_pre.shape[0], hic_nc_CREs_plot_pre.shape[0], hic_nc_enhancers_plot_pre.shape[0]])"
   ]
  },
  {
   "cell_type": "markdown",
   "id": "383dbb8e",
   "metadata": {},
   "source": [
    "Perform statistical tests."
   ]
  },
  {
   "cell_type": "code",
   "execution_count": 38,
   "id": "8066882c",
   "metadata": {},
   "outputs": [
    {
     "data": {
      "text/plain": [
       "Ttest_indResult(statistic=3.133088743038873, pvalue=0.0017655398260284796)"
      ]
     },
     "execution_count": 38,
     "metadata": {},
     "output_type": "execute_result"
    }
   ],
   "source": [
    "scipy.stats.ttest_ind(hic_enhancers_plot['CTRL'], hic_enhancers_plot['KD'])"
   ]
  },
  {
   "cell_type": "code",
   "execution_count": 39,
   "id": "8066882c",
   "metadata": {},
   "outputs": [
    {
     "data": {
      "text/plain": [
       "Ttest_indResult(statistic=3.081860289656625, pvalue=0.002097136149685753)"
      ]
     },
     "execution_count": 39,
     "metadata": {},
     "output_type": "execute_result"
    }
   ],
   "source": [
    "scipy.stats.ttest_ind(hic_smaca4_enhancers_plot['CTRL'], hic_smaca4_enhancers_plot['KD'])"
   ]
  },
  {
   "cell_type": "code",
   "execution_count": 40,
   "id": "8066882c",
   "metadata": {},
   "outputs": [
    {
     "data": {
      "text/plain": [
       "Ttest_indResult(statistic=1.15808351076594, pvalue=0.24702691557052453)"
      ]
     },
     "execution_count": 40,
     "metadata": {},
     "output_type": "execute_result"
    }
   ],
   "source": [
    "scipy.stats.ttest_ind(hic_nc_CREs_plot['CTRL'], hic_nc_CREs_plot['KD'])"
   ]
  },
  {
   "cell_type": "code",
   "execution_count": 41,
   "id": "3ab79677",
   "metadata": {},
   "outputs": [
    {
     "data": {
      "text/plain": [
       "Ttest_indResult(statistic=0.8510182577817323, pvalue=0.39490432632645944)"
      ]
     },
     "execution_count": 41,
     "metadata": {},
     "output_type": "execute_result"
    }
   ],
   "source": [
    "scipy.stats.ttest_ind(hic_nc_enhancers_plot['CTRL'], hic_nc_enhancers_plot['KD'])"
   ]
  },
  {
   "cell_type": "code",
   "execution_count": 42,
   "id": "3ab79677",
   "metadata": {},
   "outputs": [
    {
     "data": {
      "text/plain": [
       "Ttest_indResult(statistic=12.276556386444438, pvalue=5.5613546587148944e-33)"
      ]
     },
     "execution_count": 42,
     "metadata": {},
     "output_type": "execute_result"
    }
   ],
   "source": [
    "# 3 vs 1\n",
    "scipy.stats.ttest_ind(hic_enhancers_plot['CTRL'], hic_nc_CREs_plot['CTRL'])"
   ]
  },
  {
   "cell_type": "code",
   "execution_count": 43,
   "id": "3ab79677",
   "metadata": {},
   "outputs": [
    {
     "data": {
      "text/plain": [
       "Ttest_indResult(statistic=10.983806966409322, pvalue=5.532769857282561e-27)"
      ]
     },
     "execution_count": 43,
     "metadata": {},
     "output_type": "execute_result"
    }
   ],
   "source": [
    "# 3 vs 2\n",
    "scipy.stats.ttest_ind(hic_enhancers_plot['CTRL'], hic_nc_enhancers_plot['CTRL'])"
   ]
  },
  {
   "cell_type": "code",
   "execution_count": 44,
   "id": "3ab79677",
   "metadata": {},
   "outputs": [
    {
     "data": {
      "text/plain": [
       "Ttest_indResult(statistic=11.665913646429917, pvalue=4.4212951728812e-30)"
      ]
     },
     "execution_count": 44,
     "metadata": {},
     "output_type": "execute_result"
    }
   ],
   "source": [
    "# 4 vs 1\n",
    "scipy.stats.ttest_ind(hic_smaca4_enhancers_plot['CTRL'], hic_nc_CREs_plot['CTRL'])"
   ]
  },
  {
   "cell_type": "code",
   "execution_count": 45,
   "id": "3ab79677",
   "metadata": {},
   "outputs": [
    {
     "data": {
      "text/plain": [
       "Ttest_indResult(statistic=10.492729242955418, pvalue=7.537947758609907e-25)"
      ]
     },
     "execution_count": 45,
     "metadata": {},
     "output_type": "execute_result"
    }
   ],
   "source": [
    "# 4 vs 2\n",
    "scipy.stats.ttest_ind(hic_smaca4_enhancers_plot['CTRL'], hic_nc_enhancers_plot['CTRL'])"
   ]
  },
  {
   "cell_type": "markdown",
   "id": "a399c961",
   "metadata": {},
   "source": [
    "Generate the plot."
   ]
  },
  {
   "cell_type": "code",
   "execution_count": 46,
   "id": "4f85fdbf",
   "metadata": {},
   "outputs": [],
   "source": [
    "hic_enhancers_plot['sample']='Enhancers'\n",
    "hic_smaca4_enhancers_plot['sample']='SMACA4 Enhancers'\n",
    "hic_nc_CREs_plot['sample']='Neg ctrl CREs'\n",
    "hic_nc_enhancers_plot['sample']='Neg ctrl enhancers'"
   ]
  },
  {
   "cell_type": "code",
   "execution_count": 47,
   "id": "66fdc057",
   "metadata": {
    "scrolled": true
   },
   "outputs": [],
   "source": [
    "hic_enhancers_plot = pd.melt(hic_enhancers_plot,id_vars='sample',var_name=\"condition\",value_name=\"RPKM\")\n",
    "hic_smaca4_enhancers_plot = pd.melt(hic_smaca4_enhancers_plot,id_vars='sample',var_name=\"condition\",value_name=\"RPKM\")\n",
    "hic_nc_CREs_plot = pd.melt(hic_nc_CREs_plot,id_vars='sample',var_name=\"condition\",value_name=\"RPKM\")\n",
    "hic_nc_enhancers_plot = pd.melt(hic_nc_enhancers_plot,id_vars='sample',var_name=\"condition\",value_name=\"RPKM\")"
   ]
  },
  {
   "cell_type": "code",
   "execution_count": 48,
   "id": "fecec3ac",
   "metadata": {},
   "outputs": [
    {
     "name": "stderr",
     "output_type": "stream",
     "text": [
      "/Users/alexandregaubil/opt/anaconda3/envs/bioinformatics/lib/python3.7/site-packages/pandas/core/arraylike.py:364: RuntimeWarning: divide by zero encountered in log2\n",
      "  result = getattr(ufunc, method)(*inputs, **kwargs)\n"
     ]
    }
   ],
   "source": [
    "hic_final_plot = hic_nc_CREs_plot.append(hic_nc_enhancers_plot)\n",
    "hic_final_plot = hic_final_plot.append(hic_enhancers_plot)\n",
    "hic_final_plot = hic_final_plot.append(hic_smaca4_enhancers_plot)\n",
    "hic_final_plot['log2_RPKM'] = np.log2(hic_final_plot['RPKM'])"
   ]
  },
  {
   "cell_type": "code",
   "execution_count": 49,
   "id": "6fa9b8c3",
   "metadata": {},
   "outputs": [
    {
     "data": {
      "image/png": "[encoded data removed]",
      "text/plain": [
       "<Figure size 640x480 with 1 Axes>"
      ]
     },
     "metadata": {},
     "output_type": "display_data"
    }
   ],
   "source": [
    "sns.set_theme(style=\"ticks\")\n",
    "my_pal = {\"CTRL\":\"#448ee4\",\"KD\": \"orange\"}\n",
    "sns.boxplot(\n",
    "\tx=\"sample\", \n",
    "\ty=\"log2_RPKM\",\n",
    "\thue=\"condition\",\n",
    "\tpalette=my_pal,\n",
    "\tdata=hic_final_plot\n",
    ").set_title(\"HiC Loops\")\n",
    "sns.despine(offset=10, trim=True)"
   ]
  },
  {
   "cell_type": "markdown",
   "metadata": {},
   "source": [
    "## HiC & Long Loops\n",
    "\n",
    "Import the count matrices from `computeMatrix`."
   ]
  },
  {
   "cell_type": "code",
   "execution_count": 50,
   "metadata": {},
   "outputs": [],
   "source": [
    "long_nc_CREs = pd.read_csv('cux1_short_long_loops/matrix_loops_without_CREs.tab', header=0, sep='\\t')\n",
    "long_nc_enhancers = pd.read_csv('cux1_short_long_loops/matrix_loops_without_enhancers.tab', header=0, sep='\\t')\n",
    "long_enhancers = pd.read_csv('cux1_short_long_loops/matrix_enhancers.tab', header=0, sep='\\t')\n",
    "long_smaca4_enhancers = pd.read_csv('cux1_smaca4_short_long_loops/matrix_enhancers.tab', header=0, sep='\\t')"
   ]
  },
  {
   "cell_type": "markdown",
   "metadata": {},
   "source": [
    "Create a data frame from each matrix that distinguished CTRL and KD values. We size match the negative control."
   ]
  },
  {
   "cell_type": "code",
   "execution_count": 51,
   "id": "42978863",
   "metadata": {},
   "outputs": [],
   "source": [
    "long_enhancers_plot_pre = pd.DataFrame({'CTRL': filterCTRL(long_enhancers),'KD': filterKD(long_enhancers)})\n",
    "long_smaca4_enhancers_plot_pre = pd.DataFrame({'CTRL': filterCTRL(long_smaca4_enhancers),'KD': filterKD(long_smaca4_enhancers)})\n",
    "long_nc_CREs_plot_pre = pd.DataFrame({'CTRL': filterCTRL(long_nc_CREs),'KD': filterKD(long_nc_CREs)})\n",
    "long_nc_enhancers_plot_pre = pd.DataFrame({'CTRL': filterCTRL(long_nc_enhancers),'KD': filterKD(long_nc_enhancers)})"
   ]
  },
  {
   "cell_type": "code",
   "execution_count": 52,
   "metadata": {},
   "outputs": [
    {
     "data": {
      "text/plain": [
       "(1514, [2112, 1514, 5553, 5580])"
      ]
     },
     "execution_count": 52,
     "metadata": {},
     "output_type": "execute_result"
    }
   ],
   "source": [
    "long_shared_size = min([long_enhancers_plot_pre.shape[0], long_smaca4_enhancers_plot_pre.shape[0], long_nc_CREs_plot_pre.shape[0], long_nc_enhancers_plot_pre.shape[0]])\n",
    "long_enhancers_plot = long_enhancers_plot_pre.sample(n=long_shared_size)\n",
    "long_smaca4_enhancers_plot = long_smaca4_enhancers_plot_pre.sample(n=long_shared_size)\n",
    "long_nc_CREs_plot = long_nc_CREs_plot_pre.sample(n=long_shared_size)\n",
    "long_nc_enhancers_plot = long_nc_enhancers_plot_pre.sample(n=long_shared_size)\n",
    "\n",
    "(long_shared_size, [long_enhancers_plot_pre.shape[0], long_smaca4_enhancers_plot_pre.shape[0], long_nc_CREs_plot_pre.shape[0], long_nc_enhancers_plot_pre.shape[0]])"
   ]
  },
  {
   "cell_type": "markdown",
   "id": "383dbb8e",
   "metadata": {},
   "source": [
    "Perform statistical tests."
   ]
  },
  {
   "cell_type": "code",
   "execution_count": 53,
   "id": "8066882c",
   "metadata": {},
   "outputs": [
    {
     "data": {
      "text/plain": [
       "Ttest_indResult(statistic=4.372736463851025, pvalue=1.2683702847577868e-05)"
      ]
     },
     "execution_count": 53,
     "metadata": {},
     "output_type": "execute_result"
    }
   ],
   "source": [
    "scipy.stats.ttest_ind(long_enhancers_plot['CTRL'], long_enhancers_plot['KD'])"
   ]
  },
  {
   "cell_type": "code",
   "execution_count": 54,
   "id": "8066882c",
   "metadata": {},
   "outputs": [
    {
     "data": {
      "text/plain": [
       "Ttest_indResult(statistic=3.8096799239046404, pvalue=0.0001419134171466104)"
      ]
     },
     "execution_count": 54,
     "metadata": {},
     "output_type": "execute_result"
    }
   ],
   "source": [
    "scipy.stats.ttest_ind(long_smaca4_enhancers_plot['CTRL'], long_smaca4_enhancers_plot['KD'])"
   ]
  },
  {
   "cell_type": "code",
   "execution_count": 55,
   "id": "8066882c",
   "metadata": {},
   "outputs": [
    {
     "data": {
      "text/plain": [
       "Ttest_indResult(statistic=1.389021080501717, pvalue=0.16492855172899384)"
      ]
     },
     "execution_count": 55,
     "metadata": {},
     "output_type": "execute_result"
    }
   ],
   "source": [
    "scipy.stats.ttest_ind(long_nc_CREs_plot['CTRL'], long_nc_CREs_plot['KD'])"
   ]
  },
  {
   "cell_type": "code",
   "execution_count": 56,
   "id": "3ab79677",
   "metadata": {},
   "outputs": [
    {
     "data": {
      "text/plain": [
       "Ttest_indResult(statistic=1.3499459607046083, pvalue=0.17713428543176213)"
      ]
     },
     "execution_count": 56,
     "metadata": {},
     "output_type": "execute_result"
    }
   ],
   "source": [
    "scipy.stats.ttest_ind(long_nc_enhancers_plot['CTRL'], long_nc_enhancers_plot['KD'])"
   ]
  },
  {
   "cell_type": "code",
   "execution_count": 57,
   "id": "3ab79677",
   "metadata": {},
   "outputs": [
    {
     "data": {
      "text/plain": [
       "Ttest_indResult(statistic=9.895308844668257, pvalue=9.624873814304674e-23)"
      ]
     },
     "execution_count": 57,
     "metadata": {},
     "output_type": "execute_result"
    }
   ],
   "source": [
    "# 3 vs 1\n",
    "scipy.stats.ttest_ind(long_enhancers_plot['CTRL'], long_nc_CREs_plot['CTRL'])"
   ]
  },
  {
   "cell_type": "code",
   "execution_count": 58,
   "id": "3ab79677",
   "metadata": {},
   "outputs": [
    {
     "data": {
      "text/plain": [
       "Ttest_indResult(statistic=10.737236535999221, pvalue=2.0232084597664834e-26)"
      ]
     },
     "execution_count": 58,
     "metadata": {},
     "output_type": "execute_result"
    }
   ],
   "source": [
    "# 3 vs 2\n",
    "scipy.stats.ttest_ind(long_enhancers_plot['CTRL'], long_nc_enhancers_plot['CTRL'])"
   ]
  },
  {
   "cell_type": "code",
   "execution_count": 59,
   "id": "3ab79677",
   "metadata": {},
   "outputs": [
    {
     "data": {
      "text/plain": [
       "Ttest_indResult(statistic=8.344208719682818, pvalue=1.0757111490236868e-16)"
      ]
     },
     "execution_count": 59,
     "metadata": {},
     "output_type": "execute_result"
    }
   ],
   "source": [
    "# 4 vs 1\n",
    "scipy.stats.ttest_ind(long_smaca4_enhancers_plot['CTRL'], long_nc_CREs_plot['CTRL'])"
   ]
  },
  {
   "cell_type": "code",
   "execution_count": 60,
   "id": "3ab79677",
   "metadata": {},
   "outputs": [
    {
     "data": {
      "text/plain": [
       "Ttest_indResult(statistic=9.14495183515792, pvalue=1.0665006007331843e-19)"
      ]
     },
     "execution_count": 60,
     "metadata": {},
     "output_type": "execute_result"
    }
   ],
   "source": [
    "# 4 vs 2\n",
    "scipy.stats.ttest_ind(long_smaca4_enhancers_plot['CTRL'], long_nc_enhancers_plot['CTRL'])"
   ]
  },
  {
   "cell_type": "markdown",
   "id": "a399c961",
   "metadata": {},
   "source": [
    "Generate the plot."
   ]
  },
  {
   "cell_type": "code",
   "execution_count": 61,
   "id": "4f85fdbf",
   "metadata": {},
   "outputs": [],
   "source": [
    "long_enhancers_plot['sample']='Enhancers'\n",
    "long_smaca4_enhancers_plot['sample']='SMACA4 Enhancers'\n",
    "long_nc_CREs_plot['sample']='Neg ctrl CREs'\n",
    "long_nc_enhancers_plot['sample']='Neg ctrl enhancers'"
   ]
  },
  {
   "cell_type": "code",
   "execution_count": 62,
   "id": "66fdc057",
   "metadata": {
    "scrolled": true
   },
   "outputs": [],
   "source": [
    "long_enhancers_plot = pd.melt(long_enhancers_plot,id_vars='sample',var_name=\"condition\",value_name=\"RPKM\")\n",
    "long_smaca4_enhancers_plot = pd.melt(long_smaca4_enhancers_plot,id_vars='sample',var_name=\"condition\",value_name=\"RPKM\")\n",
    "long_nc_CREs_plot = pd.melt(long_nc_CREs_plot,id_vars='sample',var_name=\"condition\",value_name=\"RPKM\")\n",
    "long_nc_enhancers_plot = pd.melt(long_nc_enhancers_plot,id_vars='sample',var_name=\"condition\",value_name=\"RPKM\")"
   ]
  },
  {
   "cell_type": "code",
   "execution_count": 63,
   "id": "fecec3ac",
   "metadata": {},
   "outputs": [
    {
     "name": "stderr",
     "output_type": "stream",
     "text": [
      "/Users/alexandregaubil/opt/anaconda3/envs/bioinformatics/lib/python3.7/site-packages/pandas/core/arraylike.py:364: RuntimeWarning: divide by zero encountered in log2\n",
      "  result = getattr(ufunc, method)(*inputs, **kwargs)\n"
     ]
    }
   ],
   "source": [
    "long_final_plot = long_nc_CREs_plot.append(long_nc_enhancers_plot)\n",
    "long_final_plot = long_final_plot.append(long_enhancers_plot)\n",
    "long_final_plot = long_final_plot.append(long_smaca4_enhancers_plot)\n",
    "long_final_plot['log2_RPKM'] = np.log2(long_final_plot['RPKM'])"
   ]
  },
  {
   "cell_type": "code",
   "execution_count": 64,
   "id": "6fa9b8c3",
   "metadata": {},
   "outputs": [
    {
     "data": {
      "image/png": "[encoded data removed]",
      "text/plain": [
       "<Figure size 640x480 with 1 Axes>"
      ]
     },
     "metadata": {},
     "output_type": "display_data"
    }
   ],
   "source": [
    "sns.set_theme(style=\"ticks\")\n",
    "my_pal = {\"CTRL\":\"#448ee4\",\"KD\": \"orange\"}\n",
    "sns.boxplot(\n",
    "\tx=\"sample\", \n",
    "\ty=\"log2_RPKM\",\n",
    "\thue=\"condition\",\n",
    "\tpalette=my_pal,\n",
    "\tdata=long_final_plot\n",
    ").set_title(\"HiC & Long Loops\")\n",
    "sns.despine(offset=10, trim=True)"
   ]
  }
 ],
 "metadata": {
  "kernelspec": {
   "display_name": "Python 3.7.13 ('bioinformatics')",
   "language": "python",
   "name": "python3"
  },
  "language_info": {
   "codemirror_mode": {
    "name": "ipython",
    "version": 3
   },
   "file_extension": ".py",
   "mimetype": "text/x-python",
   "name": "python",
   "nbconvert_exporter": "python",
   "pygments_lexer": "ipython3",
   "version": "3.7.13"
  },
  "orig_nbformat": 4,
  "vscode": {
   "interpreter": {
    "hash": "019bc68f04bd70b649333d174941c10205ca400ffb3f49d6a1d83ffff09e93a1"
   }
  }
 },
 "nbformat": 4,
 "nbformat_minor": 2
}
