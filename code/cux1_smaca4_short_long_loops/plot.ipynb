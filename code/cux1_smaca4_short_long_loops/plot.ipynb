{
 "cells": [
  {
   "cell_type": "markdown",
   "id": "aca0ea48",
   "metadata": {},
   "source": [
    "This script plot the difference between CTRL and CUX1 KD ATAC seq signal in human CD34+ HSPC for the CUX1-promotor bound loops and non-interacting loops. The loops are identified from CD34 HiC in Zhang 2020"
   ]
  },
  {
   "cell_type": "code",
   "execution_count": 1,
   "id": "b2feff0c",
   "metadata": {},
   "outputs": [],
   "source": [
    "import numpy as np\n",
    "import pandas as pd\n",
    "import matplotlib.pyplot as plt\n",
    "import seaborn as sns\n",
    "import os\n",
    "import scipy"
   ]
  },
  {
   "cell_type": "markdown",
   "id": "8347e375",
   "metadata": {},
   "source": [
    "Import the count matrix from `computeMatrix`."
   ]
  },
  {
   "cell_type": "code",
   "execution_count": 3,
   "id": "80dbed21",
   "metadata": {},
   "outputs": [],
   "source": [
    "loop_interact = pd.read_csv('matrix_interacting_enhancers.tab', header=0, sep='\\t')\n",
    "loop_non_interact = pd.read_csv('matrix_neg_enhancers.tab', header=0, sep='\\t')\n",
    "enhancer_interact = pd.read_csv('matrix_chromHMM_inter_enhancers.tab', header=0, sep='\\t')\n",
    "enhancer_non_interact = pd.read_csv('matrix_chromHMM_inter_enhancers_no_interact.tab', header=0, sep='\\t')"
   ]
  },
  {
   "cell_type": "markdown",
   "id": "c125dcaf",
   "metadata": {},
   "source": [
    "Aggregate the RPKM values for all the bins (columns) for each region."
   ]
  },
  {
   "cell_type": "code",
   "execution_count": 8,
   "id": "42978863",
   "metadata": {},
   "outputs": [],
   "source": [
    "loop_interact_CTRL = loop_interact.filter(regex = 'CTRL').sum(axis=1)\n",
    "loop_interact_KD = loop_interact.filter(regex = 'KD').sum(axis=1)\n",
    "loop_interact_plot = pd.DataFrame({'CTRL': loop_interact_CTRL,'KD': loop_interact_KD})"
   ]
  },
  {
   "cell_type": "code",
   "execution_count": 9,
   "id": "42978863",
   "metadata": {},
   "outputs": [],
   "source": [
    "loop_non_interact_CTRL = loop_non_interact.filter(regex = 'CTRL').sum(axis=1)\n",
    "loop_non_interact_KD = loop_non_interact.filter(regex = 'KD').sum(axis=1)\n",
    "loop_non_interact_plot = pd.DataFrame({'CTRL': loop_non_interact_CTRL,'KD': loop_non_interact_KD})"
   ]
  },
  {
   "cell_type": "code",
   "execution_count": 10,
   "id": "42978863",
   "metadata": {},
   "outputs": [],
   "source": [
    "enhancer_interact_CTRL = enhancer_interact.filter(regex = 'CTRL').sum(axis=1)\n",
    "enhancer_interact_KD = enhancer_interact.filter(regex = 'KD').sum(axis=1)\n",
    "enhancer_interact_plot = pd.DataFrame({'CTRL': enhancer_interact_CTRL,'KD': enhancer_interact_KD})"
   ]
  },
  {
   "cell_type": "code",
   "execution_count": 11,
   "id": "51629433",
   "metadata": {},
   "outputs": [],
   "source": [
    "enhancer_non_interact_CTRL = enhancer_non_interact.filter(regex = 'CTRL').sum(axis=1)\n",
    "enhancer_non_interact_KD = enhancer_non_interact.filter(regex = 'KD').sum(axis=1)\n",
    "enhancer_non_interact_plot = pd.DataFrame({'CTRL': enhancer_non_interact_CTRL,'KD': enhancer_non_interact_KD})\n",
    "\n",
    "# Randomly sample 272 rows to size match with the interacting loops. This is because the variance of the interact loops are drastically higher than the non-interaction loops. t test has to assume equal variance\n",
    "# non_interact_plot_sample_1 = non_interact_plot_1.sample(n = 272)"
   ]
  },
  {
   "cell_type": "markdown",
   "id": "383dbb8e",
   "metadata": {},
   "source": [
    "Perform statistical test"
   ]
  },
  {
   "cell_type": "code",
   "execution_count": 12,
   "id": "8066882c",
   "metadata": {},
   "outputs": [
    {
     "data": {
      "text/plain": [
       "Ttest_indResult(statistic=0.9596889699365242, pvalue=0.3381540581206284)"
      ]
     },
     "execution_count": 12,
     "metadata": {},
     "output_type": "execute_result"
    }
   ],
   "source": [
    "scipy.stats.ttest_ind(loop_interact_plot['CTRL'], loop_interact_plot['KD'])"
   ]
  },
  {
   "cell_type": "code",
   "execution_count": 13,
   "id": "8066882c",
   "metadata": {},
   "outputs": [
    {
     "data": {
      "text/plain": [
       "Ttest_indResult(statistic=1.921828581849175, pvalue=0.05468636848067759)"
      ]
     },
     "execution_count": 13,
     "metadata": {},
     "output_type": "execute_result"
    }
   ],
   "source": [
    "scipy.stats.ttest_ind(loop_non_interact_plot['CTRL'], loop_non_interact_plot['KD'])"
   ]
  },
  {
   "cell_type": "code",
   "execution_count": 14,
   "id": "8066882c",
   "metadata": {},
   "outputs": [
    {
     "data": {
      "text/plain": [
       "Ttest_indResult(statistic=3.085630541725697, pvalue=0.002077933505753582)"
      ]
     },
     "execution_count": 14,
     "metadata": {},
     "output_type": "execute_result"
    }
   ],
   "source": [
    "scipy.stats.ttest_ind(enhancer_interact_plot['CTRL'], enhancer_interact_plot['KD'])"
   ]
  },
  {
   "cell_type": "code",
   "execution_count": 15,
   "id": "3ab79677",
   "metadata": {},
   "outputs": [
    {
     "data": {
      "text/plain": [
       "Ttest_indResult(statistic=43.58505917269079, pvalue=0.0)"
      ]
     },
     "execution_count": 15,
     "metadata": {},
     "output_type": "execute_result"
    }
   ],
   "source": [
    "scipy.stats.ttest_ind(enhancer_non_interact_plot['CTRL'], enhancer_non_interact_plot['KD'])"
   ]
  },
  {
   "cell_type": "markdown",
   "id": "a399c961",
   "metadata": {},
   "source": [
    "Plot"
   ]
  },
  {
   "cell_type": "code",
   "execution_count": 16,
   "id": "4f85fdbf",
   "metadata": {},
   "outputs": [],
   "source": [
    "loop_interact_plot['sample']='loop_interact'\n",
    "loop_non_interact_plot['sample']='loop_non_interact'\n",
    "enhancer_interact_plot['sample']='enhancer_interact'\n",
    "enhancer_non_interact_plot['sample']='enhancer_non_interact'"
   ]
  },
  {
   "cell_type": "code",
   "execution_count": 17,
   "id": "66fdc057",
   "metadata": {
    "scrolled": true
   },
   "outputs": [],
   "source": [
    "loop_interact_plot = pd.melt(loop_interact_plot,id_vars='sample',var_name=\"condition\",value_name=\"RPKM\")\n",
    "loop_non_interact_plot = pd.melt(loop_non_interact_plot,id_vars='sample',var_name=\"condition\",value_name=\"RPKM\")\n",
    "enhancer_interact_plot = pd.melt(enhancer_interact_plot,id_vars='sample',var_name=\"condition\",value_name=\"RPKM\")\n",
    "enhancer_non_interact_plot = pd.melt(enhancer_non_interact_plot,id_vars='sample',var_name=\"condition\",value_name=\"RPKM\")"
   ]
  },
  {
   "cell_type": "code",
   "execution_count": 18,
   "id": "fecec3ac",
   "metadata": {},
   "outputs": [
    {
     "name": "stderr",
     "output_type": "stream",
     "text": [
      "/Users/alexandregaubil/opt/anaconda3/envs/bioinformatics/lib/python3.7/site-packages/pandas/core/arraylike.py:364: RuntimeWarning: divide by zero encountered in log2\n",
      "  result = getattr(ufunc, method)(*inputs, **kwargs)\n"
     ]
    }
   ],
   "source": [
    "final_plot=loop_interact_plot.append(loop_non_interact_plot)\n",
    "final_plot=final_plot.append(enhancer_interact_plot)\n",
    "final_plot=final_plot.append(enhancer_non_interact_plot)\n",
    "final_plot['log2_RPKM'] = np.log2(final_plot['RPKM'])"
   ]
  },
  {
   "cell_type": "code",
   "execution_count": 19,
   "id": "6fa9b8c3",
   "metadata": {},
   "outputs": [
    {
     "data": {
      "image/png": "[encoded data removed]",
      "text/plain": [
       "<Figure size 640x480 with 1 Axes>"
      ]
     },
     "metadata": {},
     "output_type": "display_data"
    }
   ],
   "source": [
    "sns.set_theme(style=\"ticks\")\n",
    "my_pal = {\"CTRL\":\"#448ee4\",\"KD\": \"orange\"}\n",
    "sns.boxplot(\n",
    "\tx=\"sample\", \n",
    "\ty=\"log2_RPKM\",\n",
    "\thue=\"condition\",\n",
    "\tpalette=my_pal,\n",
    "\tdata=final_plot\n",
    ").set_title(\"Cux1 & Smaca4 HiC & long loops\")\n",
    "sns.despine(offset=10, trim=True)"
   ]
  }
 ],
 "metadata": {
  "kernelspec": {
   "display_name": "Python 3.7.7 ('bioinformatics')",
   "language": "python",
   "name": "python3"
  },
  "language_info": {
   "codemirror_mode": {
    "name": "ipython",
    "version": 3
   },
   "file_extension": ".py",
   "mimetype": "text/x-python",
   "name": "python",
   "nbconvert_exporter": "python",
   "pygments_lexer": "ipython3",
   "version": "3.7.13"
  },
  "vscode": {
   "interpreter": {
    "hash": "019bc68f04bd70b649333d174941c10205ca400ffb3f49d6a1d83ffff09e93a1"
   }
  }
 },
 "nbformat": 4,
 "nbformat_minor": 5
}
